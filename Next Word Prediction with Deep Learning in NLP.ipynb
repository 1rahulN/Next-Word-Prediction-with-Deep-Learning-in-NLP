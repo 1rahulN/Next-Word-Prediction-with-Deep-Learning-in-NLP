{
 "cells": [
  {
   "cell_type": "code",
   "execution_count": 1,
   "id": "6ba0ef7c",
   "metadata": {},
   "outputs": [],
   "source": [
    "import torch as th\n",
    "import torch.nn as nn\n",
    "import torch.optim as op\n",
    "from torchtext.data.utils import get_tokenizer\n",
    "from torchtext.vocab import build_vocab_from_iterator\n",
    "from torch.nn.utils.rnn import pad_sequence\n",
    "\n",
    "from collections import Counter\n",
    "from torchtext.vocab import Vocab"
   ]
  },
  {
   "cell_type": "code",
   "execution_count": 2,
   "id": "09be3304",
   "metadata": {},
   "outputs": [],
   "source": [
    "import numpy as np \n",
    "import regex as re\n",
    "import pandas as pd"
   ]
  },
  {
   "cell_type": "code",
   "execution_count": 3,
   "id": "e3114466",
   "metadata": {},
   "outputs": [],
   "source": [
    "def file_to_sentence_list(file_path):\n",
    "    # Step 1: Open the file\n",
    "    with open(file_path, \"r\") as file:\n",
    "        # Step 2: Read the file contents\n",
    "        text = file.read()\n",
    "        \n",
    "    # Step 3: Split the text into sentences\n",
    "    sentences = re.split(r\"(?<=[.!?])\\s+\", text)\n",
    "    \n",
    "    # Step 4: Strip whitespace from sentences\n",
    "    sentences = [sentence.strip() for sentence in sentences]\n",
    "    \n",
    "    # Step 5: Filter out empty sentences\n",
    "    sentences = [sentence for sentence in sentences if sentence]\n",
    "    \n",
    "    # Step 6: Return the list of sentences\n",
    "    return sentences"
   ]
  },
  {
   "cell_type": "code",
   "execution_count": 4,
   "id": "b2816618",
   "metadata": {},
   "outputs": [
    {
     "data": {
      "text/plain": [
       "683"
      ]
     },
     "execution_count": 4,
     "metadata": {},
     "output_type": "execute_result"
    }
   ],
   "source": [
    "# Load the text data from a file\n",
    "file_path = \"pizza.txt\"\n",
    "text_data = file_to_sentence_list(file_path)\n",
    "\n",
    "# Create a tokenizer for basic English words\n",
    "tokenizer = get_tokenizer('basic_english')\n",
    "\n",
    "# Define a function to yield tokens from the text data\n",
    "def yield_tokens(data_iter):\n",
    "    for text in data_iter:\n",
    "        yield tokenizer(text)\n",
    "\n",
    "# Build a vocabulary from the tokens, including a special token for unknown words\n",
    "vocab = build_vocab_from_iterator(yield_tokens(text_data), specials=[\"<unk>\"])\n",
    "vocab.set_default_index(vocab[\"<unk>\"])\n",
    "\n",
    "# Calculate the total number of unique words in the vocabulary\n",
    "total_words = len(vocab)\n",
    "\n",
    "# Output the total number of unique words\n",
    "total_words"
   ]
  },
  {
   "cell_type": "code",
   "execution_count": 5,
   "id": "16d07c38",
   "metadata": {},
   "outputs": [],
   "source": [
    "# Initialize an empty list to store the input sequences\n",
    "input_sequence = []\n",
    "\n",
    "# Loop through each sentence in the text data\n",
    "for line in text_data:\n",
    "    # Tokenize the sentence and convert tokens to vocabulary indices\n",
    "    token_list = [vocab[token] for token in tokenizer(line)]\n",
    "    \n",
    "    # Generate n-gram sequences for the sentence\n",
    "    for i in range(1, len(token_list)):\n",
    "        # Create an n-gram sequence from the first token to the (i+1)-th token\n",
    "        n_gram_sequence = token_list[:i + 1]\n",
    "        \n",
    "        # Convert the n-gram sequence to a PyTorch tensor and append to the list\n",
    "        input_sequence.append(th.tensor(n_gram_sequence, dtype=th.long))"
   ]
  },
  {
   "cell_type": "code",
   "execution_count": 6,
   "id": "7efbd79a",
   "metadata": {},
   "outputs": [],
   "source": [
    "import torch.nn.utils.rnn as rnn_utils\n",
    "\n",
    "# Find the maximum sequence length\n",
    "max_seq = max([len(seq) for seq in input_sequence])\n",
    "\n",
    "# Pad all sequences to the maximum length\n",
    "input_seq = rnn_utils.pad_sequence(input_sequence, batch_first=True, padding_value=vocab[\"<pad>\"])"
   ]
  },
  {
   "cell_type": "code",
   "execution_count": 8,
   "id": "89d0c08b",
   "metadata": {},
   "outputs": [],
   "source": [
    "# Creating X & Y\n",
    "X = input_seq[:,:-1]\n",
    "Y = input_seq[:,-1]"
   ]
  },
  {
   "cell_type": "code",
   "execution_count": 9,
   "id": "e863c45e",
   "metadata": {},
   "outputs": [],
   "source": [
    "# Assuming X and Y are already defined as tensors\n",
    "dataset = th.utils.data.TensorDataset(X, Y)\n",
    "data_loader = th.utils.data.DataLoader(dataset=dataset, batch_size=32, shuffle=True)"
   ]
  },
  {
   "cell_type": "code",
   "execution_count": 12,
   "id": "06e3a286",
   "metadata": {},
   "outputs": [],
   "source": [
    "embedding_dim=100\n",
    "hidden_dim=128\n",
    "vocab_size=total_words"
   ]
  },
  {
   "cell_type": "code",
   "execution_count": 13,
   "id": "4d5ca9f8",
   "metadata": {},
   "outputs": [],
   "source": [
    "#Definie the model\n",
    "class TextGenerationModel(nn.Module):\n",
    "    def __init__(self, vocab_size, embedding_dim, hidden_dim):\n",
    "        super(TextGenerationModel, self).__init__()\n",
    "        # Convert words to vectors\n",
    "        self.embedding = nn.Embedding(vocab_size, embedding_dim)\n",
    "        # LSTM to process the word vectors\n",
    "        self.lstm = nn.LSTM(embedding_dim, hidden_dim)\n",
    "        # Linear layer to get the final word scores\n",
    "        self.linear = nn.Linear(hidden_dim, vocab_size)\n",
    "        \n",
    "    def forward(self, text):\n",
    "        # Convert input words to embeddings\n",
    "        embedded = self.embedding(text)\n",
    "        # Pass embeddings through the LSTM\n",
    "        lstm_out, (hidden, cell) = self.lstm(embedded)\n",
    "        # Use the last output of the LSTM\n",
    "        output = self.linear(lstm_out[:, -1, :])\n",
    "        return output"
   ]
  },
  {
   "cell_type": "code",
   "execution_count": 14,
   "id": "d8c5c3a5",
   "metadata": {},
   "outputs": [
    {
     "data": {
      "text/plain": [
       "TextGenerationModel(\n",
       "  (embedding): Embedding(683, 100)\n",
       "  (lstm): LSTM(100, 128)\n",
       "  (linear): Linear(in_features=128, out_features=683, bias=True)\n",
       ")"
      ]
     },
     "execution_count": 14,
     "metadata": {},
     "output_type": "execute_result"
    }
   ],
   "source": [
    "mdl=TextGenerationModel(vocab_size,embedding_dim,hidden_dim)\n",
    "mdl"
   ]
  },
  {
   "cell_type": "code",
   "execution_count": 16,
   "id": "b177434b",
   "metadata": {},
   "outputs": [],
   "source": [
    "# Initialize model, loss function, and optimizer\n",
    "criterion=nn.CrossEntropyLoss()\n",
    "optimizer=op.Adam(mdl.parameters(),lr=0.001)"
   ]
  },
  {
   "cell_type": "code",
   "execution_count": 17,
   "id": "df9bc51a",
   "metadata": {},
   "outputs": [
    {
     "name": "stdout",
     "output_type": "stream",
     "text": [
      "Epoch[1/10], Loss: 0.0829\n",
      "Epoch[2/10], Loss: 0.0348\n",
      "Epoch[3/10], Loss: 0.0201\n",
      "Epoch[4/10], Loss: 0.0139\n",
      "Epoch[5/10], Loss: 0.0100\n",
      "Epoch[6/10], Loss: 0.0080\n",
      "Epoch[7/10], Loss: 0.0065\n",
      "Epoch[8/10], Loss: 0.0053\n",
      "Epoch[9/10], Loss: 0.0044\n",
      "Epoch[10/10], Loss: 0.0041\n",
      "Training Complete.\n"
     ]
    }
   ],
   "source": [
    "num_epoch = 10  # Number of epochs for training\n",
    "\n",
    "for k in range(num_epoch):  # Loop over each epoch\n",
    "    for label, target in data_loader:  # Loop over each batch in the data loader\n",
    "        outputs = mdl(label)  # Forward pass: Get model predictions\n",
    "        loss_fn = criterion(outputs, target)  # Compute the loss\n",
    "\n",
    "        optimizer.zero_grad()  # Zero the gradients\n",
    "        loss_fn.backward()  # Backward pass: Compute gradients\n",
    "        optimizer.step()  # Update model parameters\n",
    "\n",
    "    # Print the loss for the current epoch\n",
    "    print(f\"Epoch[{k+1}/{num_epoch}], Loss: {loss_fn.item():.4f}\")\n",
    "\n",
    "print(\"Training Complete.\")  # Training completion message"
   ]
  },
  {
   "cell_type": "markdown",
   "id": "ad33480f",
   "metadata": {},
   "source": [
    "Predicting the next word\n"
   ]
  },
  {
   "cell_type": "code",
   "execution_count": 22,
   "id": "febbdc5b",
   "metadata": {},
   "outputs": [
    {
     "name": "stdout",
     "output_type": "stream",
     "text": [
      "Next_predicted_words: iconic dish that has margherita\n"
     ]
    }
   ],
   "source": [
    "import torch as th\n",
    "\n",
    "def generate_text(mdl, seed_txt, next_words, max_sequence_len, vocab):\n",
    "    mdl.eval()  # Set model to evaluation mode\n",
    "    \n",
    "    for _ in range(next_words):\n",
    "        # Tokenize the seed text and convert to indices\n",
    "        seed_tokens = seed_txt.split()\n",
    "        token_list = [vocab[token] for token in seed_tokens]\n",
    "        token_list = th.tensor([token_list], dtype=th.long)\n",
    "        token_list = token_list[:, -max_sequence_len:]  # Truncate to max sequence length\n",
    "        \n",
    "        with th.no_grad():  # Disable gradient computation\n",
    "            predict_probs = mdl(token_list)  # Get model predictions\n",
    "            predict_index = th.argmax(predict_probs, dim=1).item()  # Get predicted word index\n",
    "            predict_word = vocab.lookup_token(predict_index)  # Convert index to word\n",
    "        \n",
    "        seed_tokens.append(predict_word)  # Append the predicted word\n",
    "    \n",
    "    return \" \".join(seed_tokens)  # Return the generated text\n",
    "\n",
    "# Define seed text and number of words to generate\n",
    "seed_text = \" iconic dish that has\"\n",
    "next_words = 5\n",
    "\n",
    "# Generate the next words\n",
    "predict_text = generate_text(mdl, seed_text, next_words, max_seq, vocab)\n",
    "print(\"Next_predicted_words:\", predict_text)"
   ]
  },
  {
   "cell_type": "code",
   "execution_count": 20,
   "id": "088d4fff",
   "metadata": {},
   "outputs": [],
   "source": [
    "fl=open(\"pizza.txt\",\"r\")"
   ]
  },
  {
   "cell_type": "code",
   "execution_count": 21,
   "id": "c9b38961",
   "metadata": {},
   "outputs": [
    {
     "data": {
      "text/plain": [
       "'Pizza, the delectable and iconic dish that has transcended borders and captivated taste buds worldwide, is a testament to the extraordinary fusion of flavors, creativity, and cultural significance. Originating from the sun-kissed lands of Italy, pizza has evolved into an art form that unites people from diverse backgrounds in a shared love for its mouthwatering combinations. Its history stretches back centuries, with roots tracing back to ancient civilizations like the Greeks, Romans, and Egyptians, who all had their versions of flatbreads adorned with various ingredients. However, it was the vibrant city of Naples, Italy, that birthed the pizza we know and adore today.\\n\\nWith its soft and chewy Neapolitan crust, topped with the perfect balance of tomatoes, mozzarella cheese, and fresh basil, the Margherita pizza pays homage to Queen Margherita of Italy and embodies the colors of the Italian flag. As pizza migrated from the shores of Naples, it found its way to the United States with Italian immigrants, who introduced this culinary delight to the American palate in the late 19th and early 20th centuries. The Neapolitan style of pizza evolved into the New York-style pizza, characterized by its thin, foldable crust and generous toppings.\\n\\nOver the years, pizza has transcended its humble origins and embraced the boundless creativity of chefs and home cooks around the world. In the United States, the deep-dish pizza of Chicago has become a symbol of indulgence, with its thick, buttery crust and layers of cheese and toppings. Meanwhile, in Italy, other regional variations have emerged, such as the Roman-style pizza, known for its thin and crispy crust, and the Sicilian-style pizza, which features a thick, fluffy crust and robust flavors.\\n\\nBeyond its traditional forms, pizza has embraced global influences and culinary fusions, giving rise to a multitude of exciting and diverse styles. Asian-inspired pizzas feature ingredients like teriyaki sauce, spicy sriracha, and toppings like kimchi and Thai basil, while Mexican-inspired pizzas boast the flavors of salsa, guacamole, and chorizo. In recent years, the plant-based movement has also made its mark on the pizza landscape, with vegan cheese, tofu-based toppings, and creative vegetable combinations offering delightful options for those seeking a more sustainable and cruelty-free dining experience.\\n\\nPizza has woven itself into the fabric of our cultures, becoming a staple at parties, gatherings, and sporting events. It is not merely a dish but a shared experience, bringing people together and sparking joy and conversation. The pizza industry has expanded exponentially, with pizzerias, delivery services, and frozen pizza options available in every corner of the world. Moreover, the advent of technology and the rise of online food delivery platforms have made pizza more accessible than ever, allowing us to indulge in this culinary delight with just a few taps on our smartphones.\\n\\nThe influence of pizza goes beyond the realm of food, permeating various aspects of popular culture. It has inspired movies like \"Pizza, Love, and Other Delicacies\" and \"Mystic Pizza,\" as well as countless songs, artwork, and even fashion trends. Pizza has become a symbol of comfort, happiness, and celebration, and its iconic triangular slices have earned a special place in our hearts.\\n\\nIn conclusion, pizza\\'s journey from humble beginnings to global fame is a testament to its undeniable charm and allure. With its diverse flavors, endless possibilities, and ability to bring people together, pizza has earned its place as one of the world\\'s most beloved dishes. From the ancient civilizations to modern-day innovations, the pizza phenomenon continues to evolve, adapt, and delight, ensuring its lasting presence on our plates and in our memories for generations to come. It has become a canvas for culinary experimentation, where chefs and home cooks alike push the boundaries of traditional pizza toppings and combinations. The artistry of pizza-making lies not only in the flavors but also in the presentation. The vibrant colors of fresh vegetables, the melty cheese cascading over the edges, and the aromatic herbs sprinkled delicately on top all contribute to the visual appeal of this beloved dish.\\n\\nOne of the most fascinating aspects of pizza is its ability to adapt to local tastes and ingredients. As it traveled from country to country, it assimilated the flavors and culinary traditions of each region. In Greece, the birthplace of the ancient flatbread that inspired pizza, you can find a variation called \"pita pizza,\" where the dough is replaced with flaky phyllo pastry. In Brazil, \"pizza de frango com catupiry\" is a popular choice, featuring shredded chicken and a local creamy cheese called catupiry. In India, you may encounter a pizza topped with spicy paneer, a type of fresh cheese, and aromatic spices like cumin and coriander.\\n\\nFurthermore, pizza has become a symbol of cultural integration and acceptance. In multicultural cities around the world, you can find pizzerias run by immigrants who bring their unique culinary heritage to the pizza-making process. This blending of flavors and techniques creates a beautiful fusion that reflects the diverse communities in which pizza has found a home.\\n\\nThe joy of pizza extends beyond its consumption. The process of making pizza has become a cherished tradition in many households. Families and friends gather in the kitchen, rolling out dough, spreading sauce, and layering their favorite toppings. It\\'s an opportunity for connection, laughter, and creativity. And let\\'s not forget the enticing aroma that fills the air as the pizza bakes in the oven, teasing our senses and building anticipation.\\n\\nPizza has also made its mark in the realm of fast food. It has become the go-to choice for a quick and satisfying meal. Whether it\\'s a late-night craving or a lunchtime treat, pizza delivery services ensure that a piping-hot pie is just a phone call away. The convenience and wide availability of pizza have made it a staple at parties, game nights, and casual gatherings. It brings people together, sparks conversations, and adds a sense of comfort and indulgence to any social occasion.\\n\\nIn recent years, pizza has embraced the growing demand for healthier options. Traditional ingredients have been swapped for alternatives that cater to dietary restrictions and preferences. Gluten-free crusts made from rice flour or cauliflower have gained popularity, allowing those with gluten intolerance or celiac disease to enjoy their favorite dish. Vegan cheese and plant-based meat substitutes have also made their way onto pizzas, offering a cruelty-free alternative without compromising on taste.\\n\\nAs the world becomes more interconnected, pizza continues to evolve. Food trucks and pop-up pizzerias have emerged, bringing artisanal pizzas to street corners and food festivals. These mobile eateries provide a unique and exciting dining experience, allowing customers to savor freshly baked pizza while immersing themselves in the bustling atmosphere of local markets and events.\\n\\nThe future of pizza is undoubtedly bright. With technological advancements, we may see innovations in pizza-making techniques and delivery methods. The rise of automation and robotics may streamline the pizza production process, ensuring consistent quality and efficiency. Virtual kitchens and ghost restaurants could expand the reach of pizza, making it available in areas previously underserved by traditional brick-and-mortar establishments.\\n\\nPizza is much more than a delicious dishâ€”it is a culinary phenomenon that has captured the hearts and palates of people around the world. Its journey from the ancient flatbreads of the Mediterranean to the global sensation it is today showcases its adaptability, creativity, and power to bring people together. Pizza has become a cultural icon, a symbol of indulgence and comfort, and a canvas for culinary exploration. Whether enjoyed in its traditional form or through innovative variations, pizza continues to delight and satisfy, leaving a lasting impression on the taste buds and memories of those fortunate enough to experience its magic. \\nIn addition to its culinary impact, pizza has left an indelible mark on popular culture. It has become an iconic symbol in movies, TV shows, and literature, often depicted as the quintessential food for gatherings, celebrations, and even moments of solace. Who can forget the iconic scene in the movie \"Home Alone,\" where Kevin McCallister joyfully devours a cheese pizza all to himself? Pizza has become synonymous with comfort, joy, and a sense of carefree indulgence.\\n\\nMoreover, pizza has permeated the world of sports, becoming a staple at stadiums and arenas. It has become the go-to choice for fans cheering on their favorite teams, as the convenience and shareable nature of pizza make it perfect for game days. Whether it\\'s a slice grabbed from a concession stand or a delivery to the living room during a televised match, pizza and sports have formed a symbiotic relationship, enhancing the overall experience for fans.\\n\\nBeyond its cultural and culinary significance, pizza also has economic implications. The pizza industry is a thriving sector that generates billions of dollars in revenue globally. Pizzerias, ranging from small family-owned establishments to large chains, provide employment opportunities and contribute to local economies. The demand for pizza has created a market that supports not only traditional pizza establishments but also various related industries, including food delivery services, pizza ingredient suppliers, and equipment manufacturers.\\n\\nFurthermore, pizza has become a medium for social impact. Many pizzerias and pizza-focused initiatives have taken on philanthropic endeavors, using their platform to support charitable causes and make a positive difference in their communities. From organizing fundraisers to donating pizzas to those in need, these initiatives showcase the power of pizza as more than just a culinary delight but also a force for good.\\n\\nAs we look to the future, pizza will undoubtedly continue to evolve and adapt to changing tastes, dietary preferences, and technological advancements. The fusion of global flavors will persist, with innovative combinations that reflect the ever-expanding culinary landscape. Health-conscious options will continue to gain popularity, accommodating diverse dietary needs and reflecting the growing interest in conscious eating.\\n\\nTechnology will play a significant role in shaping the future of pizza. Online ordering platforms, mobile apps, and delivery drones are just a few examples of how technology has revolutionized the way we order and enjoy pizza. Virtual reality and augmented reality may even enhance the dining experience, allowing customers to explore virtual pizzerias, customize their toppings, and interact with digital representations of their favorite pies.'"
      ]
     },
     "execution_count": 21,
     "metadata": {},
     "output_type": "execute_result"
    }
   ],
   "source": [
    "fl.read()"
   ]
  },
  {
   "cell_type": "code",
   "execution_count": null,
   "id": "ba6f1311",
   "metadata": {},
   "outputs": [],
   "source": []
  }
 ],
 "metadata": {
  "kernelspec": {
   "display_name": "Python 3 (ipykernel)",
   "language": "python",
   "name": "python3"
  },
  "language_info": {
   "codemirror_mode": {
    "name": "ipython",
    "version": 3
   },
   "file_extension": ".py",
   "mimetype": "text/x-python",
   "name": "python",
   "nbconvert_exporter": "python",
   "pygments_lexer": "ipython3",
   "version": "3.11.3"
  }
 },
 "nbformat": 4,
 "nbformat_minor": 5
}
